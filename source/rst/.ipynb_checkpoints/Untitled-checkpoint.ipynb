{
 "cells": [
  {
   "cell_type": "code",
   "execution_count": null,
   "metadata": {},
   "outputs": [],
   "source": [
    "import glob\n",
    "import re\n",
    "import os\n",
    "import errno\n",
    "path1 = '/home/anju/Documents/lecture-source-py/source/rst/*.rst'\n",
    "path2 = '*.tex'\n",
    "path = '*.rst'\n",
    "files = glob.glob(path)"
   ]
  },
  {
   "cell_type": "code",
   "execution_count": null,
   "metadata": {},
   "outputs": [],
   "source": [
    "def func_replace(a, b, filename):\n",
    "    with open(filename,'r+', encoding=\"utf8\") as f:\n",
    "            #convert to string:\n",
    "            data = f.read()\n",
    "            f.seek(0)\n",
    "            f.write(data.replace(a, b))\n",
    "            f.truncate()"
   ]
  },
  {
   "cell_type": "code",
   "execution_count": null,
   "metadata": {},
   "outputs": [],
   "source": [
    "def replace(srr, name):\n",
    "    \n",
    "    func_replace(\"_static/figures/\", \"_static/lecture_specific/\"+srr+\"/\", name)\n",
    "    \n",
    "    func_replace(\"_static/code/\", \"_static/lecture_specific/\", name)\n",
    "    \n",
    "    func_replace(\"_static/pdfs/\", \"_static/lecture_specific/\"+srr+\"/\", name)"
   ]
  },
  {
   "cell_type": "code",
   "execution_count": null,
   "metadata": {},
   "outputs": [],
   "source": [
    "count=0\n",
    "for name in files:\n",
    "    #name = \"von_neumann_model.tex\"\n",
    "    srr =\"\"\n",
    "    srr += name[0:len(name)-4]\n",
    "    print(srr+\"\\n\")\n",
    "    count+=1\n",
    "    replace(srr,name)\n",
    "    #make_changes(name)\n",
    "    #sections_name(name)\n",
    "    #func_replace(name[0:len(name)-4]+\"}\"+\"\\n\"+\"  \\\\end{itemize}\"+\"\\n\"+\"\\\\end{itemize}\", name[0:len(name)-4]+\"}\"+\"\\n\"+\"  \\\\end{itemize}\",name)\n",
    "\n",
    "print(count)"
   ]
  }
 ],
 "metadata": {
  "kernelspec": {
   "display_name": "Python 3",
   "language": "python",
   "name": "python3"
  },
  "language_info": {
   "codemirror_mode": {
    "name": "ipython",
    "version": 3
   },
   "file_extension": ".py",
   "mimetype": "text/x-python",
   "name": "python",
   "nbconvert_exporter": "python",
   "pygments_lexer": "ipython3",
   "version": "3.7.3"
  }
 },
 "nbformat": 4,
 "nbformat_minor": 2
}
